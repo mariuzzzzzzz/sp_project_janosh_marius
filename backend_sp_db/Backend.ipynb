{
 "cells": [
  {
   "cell_type": "code",
   "execution_count": 2,
   "metadata": {},
   "outputs": [
    {
     "name": "stdout",
     "output_type": "stream",
     "text": [
      "c:\\Users\\spunk\\OneDrive\\Janosh\\ZHAW\\Module\\Semester 4\\SCI\\Challenge\\SP Project\\sp_project_janosh_marius\\backend_sp_db\n"
     ]
    }
   ],
   "source": [
    "import datetime\n",
    "import os\n",
    "import sqlite3\n",
    "import pandas as pd\n",
    "import os\n",
    "from platform import python_version\n",
    "from datetime import datetime\n",
    "\n",
    "\n",
    "import warnings\n",
    "warnings.filterwarnings('ignore')\n",
    "\n",
    "print(os.getcwd())"
   ]
  },
  {
   "cell_type": "code",
   "execution_count": 8,
   "metadata": {},
   "outputs": [],
   "source": [
    "import os\n",
    "import sqlite3\n",
    "\n",
    "exportdir = ['Imports', 'Exports', 'Database']\n",
    "\n",
    "notebook_dir = os.getcwd()  \n",
    "\n",
    "for exportdirs in exportdir:\n",
    "    parent_dir = os.path.dirname(notebook_dir)\n",
    "    output_dir = os.path.join(parent_dir, 'backend_sp_db', exportdirs)\n",
    "\n",
    "    if not os.path.exists(output_dir):\n",
    "        os.makedirs(output_dir)\n",
    "\n"
   ]
  },
  {
   "cell_type": "code",
   "execution_count": 5,
   "metadata": {},
   "outputs": [
    {
     "data": {
      "text/plain": [
       "<sqlite3.Cursor at 0x205a7216d40>"
      ]
     },
     "execution_count": 5,
     "metadata": {},
     "output_type": "execute_result"
    }
   ],
   "source": [
    "conn = sqlite3.connect(\"Database/project_SP.db\")\n",
    "conn.execute('''CREATE TABLE IF NOT EXISTS SP_Project\n",
    "             (ID INT PRIMARY KEY     NOT NULL);''')"
   ]
  },
  {
   "cell_type": "code",
   "execution_count": 107,
   "metadata": {},
   "outputs": [],
   "source": [
    "import sqlite3\n",
    "import pandas as pd\n",
    "\n",
    "conn = sqlite3.connect(\"Database/project_SP.db\")\n",
    "\n",
    "# List of months\n",
    "months = [\"Januar\", \"Februar\", \"März\", \"April\", \"Mai\", \"Juni\", \"Juli\", \"August\", \"September\", \"Oktober\", \"November\", \"Dezember\"]\n",
    "\n",
    "df_sum = pd.DataFrame(columns=['Month'])\n",
    "\n",
    "#set filter to empty string to generate for ALL Teams\n",
    "filter = \"DST OPS\"\n",
    "\n",
    "\n",
    "for month in months:\n",
    "    df_cust = pd.read_excel(f\"Imports/{month}_21.xlsx\")\n",
    "\n",
    "    #Can be Used to filter Abteilung to DST IPS, DST NF or DST OP\n",
    "    if (filter != \"\"):\n",
    "        df_cust = df_cust[df_cust[\"Abteilung (kurz)\"] == filter]  \n",
    "\n",
    " \n",
    "\n",
    "    # Calculate the sum of the values\n",
    "    total_sum_ÜS = round(df_cust['Saldo ÜS'].sum(), 2)\n",
    "    total_sum_GLAZ = round(df_cust['Saldo GLAZ'].sum(), 2)\n",
    "    total_sum_Covid = round(df_cust['Saldo Covid'].sum(), 2)\n",
    "    total_sum_Ist = round(df_cust['Ist'].sum(), 2)\n",
    "    total_sum_Soll = round(df_cust['Soll'].sum(),2)\n",
    "    total_sum_DIS = round(df_cust['Differenz Ist/Soll'].sum(),2)\n",
    "    total_sum_Ferien = round(df_cust['(5010) Ferien - Saldo'].sum(),2)\n",
    "\n",
    "    df_sum = df_sum.append({'Month': month, 'Saldo Überstunden': total_sum_ÜS, 'Saldo Glaz': total_sum_GLAZ, 'Saldo Covid': total_sum_Covid, 'Saldo IST': total_sum_Ist\n",
    "    , 'Saldo SOLL': total_sum_Soll,'Saldo DIS': total_sum_DIS, 'Saldo Ferien': total_sum_Ferien }, ignore_index=True)\n",
    "\n",
    "df_sum.to_sql(f\"SP_Project_Sums_{filter}\", conn, if_exists=\"replace\", index=False)\n",
    "\n",
    "conn.commit()\n",
    "conn.close()\n"
   ]
  },
  {
   "attachments": {},
   "cell_type": "markdown",
   "metadata": {},
   "source": [
    "ADD OWN TOKEN TO ACCESS_TOKEN Parameter"
   ]
  },
  {
   "cell_type": "code",
   "execution_count": 9,
   "metadata": {},
   "outputs": [
    {
     "name": "stdout",
     "output_type": "stream",
     "text": [
      "           date ncumul_conf  ncumul_hosp  ncumul_ICU  ncumul_deceased\n",
      "309  2021-01-01       70233        445.0        96.0            900.0\n",
      "339  2021-01-31       82521        229.0        58.0           1171.0\n",
      "367  2021-02-28       87545        126.0        25.0           1272.0\n",
      "398  2021-03-31       95338        183.0        30.0           1333.0\n",
      "428  2021-04-30      106775        210.0        67.0           1377.0\n",
      "459  2021-05-31      111675         93.0        39.0           1402.0\n",
      "489  2021-06-30      112897         21.0        15.0           1417.0\n",
      "520  2021-07-31      116327         46.0        16.0           1418.0\n",
      "551  2021-08-31      127460        192.0        67.0           1436.0\n",
      "581  2021-09-30      139402        106.0        38.0           1476.0\n",
      "612  2021-10-31      145236         67.0        20.0           1497.0\n",
      "642  2021-11-30      168497        177.0        42.0           1540.0\n",
      "673  2021-12-31      218717        171.0        52.0           1619.0\n"
     ]
    }
   ],
   "source": [
    "import requests\n",
    "import pandas as pd\n",
    "import tempfile\n",
    "import sqlite3\n",
    "\n",
    "repo_owner = \"openZH\"\n",
    "\n",
    "repo_name = \"covid_19\"\n",
    "\n",
    "file_path = \"fallzahlen_kanton_total_csv/COVID19_Fallzahlen_Kanton_ZH_total.csv\"\n",
    "\n",
    "access_token =  \"\" #ADD OWN TOKEN! \n",
    "\n",
    "api_url = f\"https://api.github.com/repos/{repo_owner}/{repo_name}/contents/{file_path}\"\n",
    "\n",
    "headers = {}\n",
    "\n",
    "if access_token:\n",
    "\n",
    "    headers[\"Authorization\"] = f\"Bearer {access_token}\"\n",
    "\n",
    "response = requests.get(api_url, headers=headers)\n",
    "\n",
    "\n",
    "if response.status_code == 200:\n",
    "\n",
    "    data = response.json()\n",
    "\n",
    "    download_url = data[\"download_url\"]\n",
    "\n",
    "    file_response = requests.get(download_url)\n",
    "\n",
    "\n",
    "    if file_response.status_code == 200:\n",
    "\n",
    "        file_content = file_response.text\n",
    "\n",
    "    else:\n",
    "\n",
    "        print(\"File download failed with status code:\", file_response.status_code)\n",
    "\n",
    "else:\n",
    "\n",
    "    print(\"Request failed with status code:\", response.status_code)\n",
    "\n",
    "    print(\"Error message:\", response.text)\n",
    "\n",
    "# Save the file_content as a temporary file\n",
    "with tempfile.NamedTemporaryFile(delete=False) as temp_file:\n",
    "    temp_file.write(file_content.encode())\n",
    "    temp_file_name = temp_file.name\n",
    "\n",
    "df = pd.read_csv(temp_file_name)\n",
    "\n",
    "selected_columns = ['date', 'ncumul_conf', 'ncumul_hosp', 'ncumul_ICU', 'ncumul_deceased']\n",
    "\n",
    "df_selected = df[selected_columns]\n",
    "\n",
    "df_selected['date'] = pd.to_datetime(df_selected['date']).dt.date \n",
    "\n",
    "targetdates = ['2021-01-31', '2021-02-28', '2021-03-31', '2021-04-30', \n",
    "               '2021-05-31', '2021-06-30', '2021-07-31', '2021-08-31', '2021-09-30', \n",
    "               '2021-10-31', '2021-11-30', '2021-12-31']\n",
    "\n",
    "\n",
    "combined_df = pd.DataFrame(columns=selected_columns)\n",
    "\n",
    "for targetdate in targetdates:\n",
    "    target_date = pd.to_datetime(targetdate)\n",
    "    df_filtered = df_selected[df_selected['date'] == target_date]\n",
    "\n",
    "\n",
    "    combined_df = pd.concat([combined_df, df_filtered])\n",
    "\n",
    "print(combined_df)\n",
    "\n",
    "df_covid = pd.DataFrame(columns=['date', 'cases', 'hospitalisation', 'ICU', 'deaths'])\n",
    "df_covid['date'] = combined_df['date']\n",
    "df_covid['cases'] = combined_df['ncumul_conf'].astype(int)  # Convert cases column to integers\n",
    "df_covid['hospitalisation'] = combined_df['ncumul_hosp'].astype(int) \n",
    "df_covid['ICU'] = combined_df['ncumul_ICU'].astype(int)\n",
    "df_covid['deaths'] = combined_df['ncumul_deceased'].astype(int)\n",
    "\n",
    "conn = sqlite3.connect(\"Database/project_SP.db\")\n",
    "\n",
    "df_covid.to_sql(\"Covid_Data\", conn, if_exists=\"replace\", index=False)\n",
    "\n",
    "conn.commit()\n",
    "conn.close()"
   ]
  },
  {
   "cell_type": "code",
   "execution_count": null,
   "metadata": {},
   "outputs": [],
   "source": [
    "import os\n",
    "import platform\n",
    "import socket\n",
    "from platform import python_version\n",
    "from datetime import datetime\n",
    "\n",
    "print('-----------------------------------')\n",
    "print(os.name.upper())\n",
    "print(platform.system(), '|', platform.release())\n",
    "print('Datetime:', datetime.now().strftime(\"%Y-%m-%d %H:%M:%S\"))\n",
    "print('Python Version:', python_version())\n",
    "print('-----------------------------------')"
   ]
  }
 ],
 "metadata": {
  "kernelspec": {
   "display_name": "spenv",
   "language": "python",
   "name": "python3"
  },
  "language_info": {
   "codemirror_mode": {
    "name": "ipython",
    "version": 3
   },
   "file_extension": ".py",
   "mimetype": "text/x-python",
   "name": "python",
   "nbconvert_exporter": "python",
   "pygments_lexer": "ipython3",
   "version": "3.10.9"
  },
  "orig_nbformat": 4
 },
 "nbformat": 4,
 "nbformat_minor": 2
}
