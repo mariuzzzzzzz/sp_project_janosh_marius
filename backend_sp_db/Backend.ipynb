{
 "cells": [
  {
   "cell_type": "code",
   "execution_count": 1,
   "metadata": {},
   "outputs": [
    {
     "name": "stdout",
     "output_type": "stream",
     "text": [
      "c:\\ZHAW\\Sc_Programming\\Project\\Github\\sp_project_janosh_marius\\backend_sp_db\n"
     ]
    }
   ],
   "source": [
    "# Libraries\n",
    "import datetime\n",
    "import os\n",
    "import sqlite3\n",
    "import pandas as pd\n",
    "import os\n",
    "from platform import python_version\n",
    "from datetime import datetime\n",
    "\n",
    "# Ignore warnings\n",
    "import warnings\n",
    "warnings.filterwarnings('ignore')\n",
    "\n",
    "# Show current working directory\n",
    "print(os.getcwd())"
   ]
  },
  {
   "cell_type": "code",
   "execution_count": 3,
   "metadata": {},
   "outputs": [],
   "source": [
    "exportdir = ['Imports', 'Exports', 'Database']\n",
    "\n",
    "\n",
    "for exportdirs in exportdir:\n",
    "    output_dir = os.path.join(r'C:\\ZHAW\\Sc_Programming\\Project\\Github\\sp_project_janosh_marius\\backend_sp_db', exportdirs, )\n",
    "\n",
    "    if not os.path.exists(output_dir):\n",
    "        os.makedirs(output_dir)\n",
    "\n"
   ]
  },
  {
   "cell_type": "code",
   "execution_count": 4,
   "metadata": {},
   "outputs": [],
   "source": [
    "conn = sqlite3.connect(\"Database/project_SP.db\")"
   ]
  },
  {
   "cell_type": "code",
   "execution_count": 5,
   "metadata": {},
   "outputs": [
    {
     "data": {
      "text/plain": [
       "<sqlite3.Cursor at 0x205a7216d40>"
      ]
     },
     "execution_count": 5,
     "metadata": {},
     "output_type": "execute_result"
    }
   ],
   "source": [
    "conn.execute('''CREATE TABLE IF NOT EXISTS SP_Project\n",
    "             (ID INT PRIMARY KEY     NOT NULL);''')"
   ]
  },
  {
   "cell_type": "code",
   "execution_count": 26,
   "metadata": {},
   "outputs": [],
   "source": [
    "import sqlite3\n",
    "import pandas as pd\n",
    "\n",
    "# Create a connection to the database\n",
    "conn = sqlite3.connect(\"Database/project_SP.db\")\n",
    "\n",
    "# List of months\n",
    "months = [\"Januar\", \"Februar\", \"März\", \"April\", \"Mai\", \"Juni\"]\n",
    "\n",
    "# Create an empty DataFrame to store the sums\n",
    "df_sum = pd.DataFrame(columns=['Month'])\n",
    "\n",
    "# Iterate over the months\n",
    "for month in months:\n",
    "    # Import data from Excel\n",
    "    df_cust = pd.read_excel(f\"Imports/{month}_21.xlsx\")\n",
    "\n",
    "    # Calculate the sum of the values\n",
    "    total_sum_ÜS = round(df_cust['Saldo ÜS'].sum(), 2)\n",
    "    total_sum_GLAZ = round(df_cust['Saldo GLAZ'].sum(), 2)\n",
    "    total_sum_Covid = round(df_cust['Saldo Covid'].sum(), 2)\n",
    "    total_sum_Ist = round(df_cust['Ist'].sum(), 2)\n",
    "    total_sum_Soll = round(df_cust['Soll'].sum(),2)\n",
    "    total_sum_DIS = round(df_cust['Differenz Ist/Soll'].sum(),2)\n",
    "    total_sum_Ferien = round(df_cust['(5010) Ferien - Saldo'].sum(),2)\n",
    "\n",
    "    # Append the sum to the DataFrame\n",
    "    df_sum = df_sum.append({'Month': month, 'Saldo Überstunden': total_sum_ÜS, 'Saldo Glaz': total_sum_GLAZ, 'Saldo Covid': total_sum_Covid, 'Saldo IST': total_sum_Ist\n",
    "    , 'Saldo SOLL': total_sum_Soll,'Saldo DIS': total_sum_DIS, 'Saldo Ferien': total_sum_Ferien }, ignore_index=True)\n",
    "\n",
    "\n",
    "# Create a new table with the sums\n",
    "df_sum.to_sql(\"SP_Project_Sums\", conn, if_exists=\"replace\", index=False)\n",
    "\n",
    "# Commit the changes to the database\n",
    "conn.commit()\n",
    "\n",
    "# Close the connection\n",
    "conn.close()\n"
   ]
  },
  {
   "cell_type": "code",
   "execution_count": null,
   "metadata": {},
   "outputs": [],
   "source": [
    "conn = sqlite3.connect(\"Database/project_SP.db\")\n",
    "\n",
    "df_cust = pd.read_sql(\"\"\" SELECT\n",
    "                      SUM(Jan.[Saldo ÜS] + Feb.[Saldo ÜS]+ März.[Saldo ÜS]) FROM SP_Project_Januar AS Jan, SP_Project_Februar AS Feb, SP_Project_März AS März  \"\"\")"
   ]
  }
 ],
 "metadata": {
  "kernelspec": {
   "display_name": "spenv",
   "language": "python",
   "name": "python3"
  },
  "language_info": {
   "codemirror_mode": {
    "name": "ipython",
    "version": 3
   },
   "file_extension": ".py",
   "mimetype": "text/x-python",
   "name": "python",
   "nbconvert_exporter": "python",
   "pygments_lexer": "ipython3",
   "version": "3.10.9"
  },
  "orig_nbformat": 4
 },
 "nbformat": 4,
 "nbformat_minor": 2
}
