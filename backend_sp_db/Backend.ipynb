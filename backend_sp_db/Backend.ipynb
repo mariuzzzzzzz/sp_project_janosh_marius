{
 "cells": [
  {
   "cell_type": "code",
   "execution_count": 1,
   "metadata": {},
   "outputs": [
    {
     "name": "stdout",
     "output_type": "stream",
     "text": [
      "c:\\ZHAW\\Sc_Programming\\Project\\Github\\sp_project_janosh_marius\\backend_sp_db\n"
     ]
    }
   ],
   "source": [
    "# Libraries\n",
    "import datetime\n",
    "import os\n",
    "import sqlite3\n",
    "import pandas as pd\n",
    "import os\n",
    "from platform import python_version\n",
    "from datetime import datetime\n",
    "\n",
    "# Ignore warnings\n",
    "import warnings\n",
    "warnings.filterwarnings('ignore')\n",
    "\n",
    "# Show current working directory\n",
    "print(os.getcwd())"
   ]
  },
  {
   "cell_type": "code",
   "execution_count": 3,
   "metadata": {},
   "outputs": [],
   "source": [
    "exportdir = ['Imports', 'Exports', 'Database']\n",
    "\n",
    "\n",
    "for exportdirs in exportdir:\n",
    "    output_dir = os.path.join(r'C:\\ZHAW\\Sc_Programming\\Project\\Github\\sp_project_janosh_marius\\backend_sp_db', exportdirs, )\n",
    "\n",
    "    if not os.path.exists(output_dir):\n",
    "        os.makedirs(output_dir)\n",
    "\n"
   ]
  },
  {
   "cell_type": "code",
   "execution_count": 4,
   "metadata": {},
   "outputs": [],
   "source": [
    "conn = sqlite3.connect(\"Database/project_SP.db\")"
   ]
  },
  {
   "cell_type": "code",
   "execution_count": 5,
   "metadata": {},
   "outputs": [
    {
     "data": {
      "text/plain": [
       "<sqlite3.Cursor at 0x205a7216d40>"
      ]
     },
     "execution_count": 5,
     "metadata": {},
     "output_type": "execute_result"
    }
   ],
   "source": [
    "conn.execute('''CREATE TABLE IF NOT EXISTS SP_Project\n",
    "             (ID INT PRIMARY KEY     NOT NULL);''')"
   ]
  },
  {
   "cell_type": "code",
   "execution_count": 8,
   "metadata": {},
   "outputs": [],
   "source": [
    "# Import data\n",
    "df_cust = pd.read_excel(r\"Imports/Januar_21.xlsx\", sheet_name='Test2')\n",
    "\n",
    "\n",
    "\n",
    "\n",
    "# Write data to the data base table named 'COMPANY'\n",
    "df_cust.to_sql('SP_Project', conn, if_exists='replace')\n",
    "\n",
    "# Commit the changes to the table\n",
    "conn.commit()\n",
    "\n",
    "\n",
    "\n",
    "# Close connection to db\n",
    "conn.close()"
   ]
  }
 ],
 "metadata": {
  "kernelspec": {
   "display_name": "spenv",
   "language": "python",
   "name": "python3"
  },
  "language_info": {
   "codemirror_mode": {
    "name": "ipython",
    "version": 3
   },
   "file_extension": ".py",
   "mimetype": "text/x-python",
   "name": "python",
   "nbconvert_exporter": "python",
   "pygments_lexer": "ipython3",
   "version": "3.10.9"
  },
  "orig_nbformat": 4
 },
 "nbformat": 4,
 "nbformat_minor": 2
}
